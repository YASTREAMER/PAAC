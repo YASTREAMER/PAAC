{
 "cells": [
  {
   "cell_type": "code",
   "execution_count": null,
   "metadata": {},
   "outputs": [],
   "source": [
    "import pandas as pd\n",
    "import os \n",
    "import numpy as np\n",
    "\n",
    "import matplotlib.pyplot as plt\n",
    "import seaborn as sn\n",
    "\n",
    "from sklearn.model_selection import train_test_split\n",
    "from sklearn.metrics import confusion_matrix\n",
    "from sklearn.preprocessing import normalize\n",
    "from sklearn.preprocessing import MinMaxScaler\n",
    "\n",
    "import torch\n",
    "from torch import  nn\n",
    "from torchvision import transforms ,datasets\n",
    "from torch.utils.data import DataLoader\n",
    "from torch.optim import Adam\n",
    "import torch.optim.lr_scheduler as lr_scheduler\n",
    "\n",
    "device = \"cuda\" if torch.cuda.is_available() else \"cpu\"\n",
    "device\n"
   ]
  },
  {
   "cell_type": "code",
   "execution_count": null,
   "metadata": {},
   "outputs": [],
   "source": [
    "images=np.load(\"/home/yash/Downloads/Dataset PAAC/Galaxy10 datasets/DECals/images-001.npy\")\n",
    "labels=np.load(\"/home/yash/Downloads/Dataset PAAC/Galaxy10 datasets/DECals/labels.npy\")"
   ]
  },
  {
   "cell_type": "code",
   "execution_count": null,
   "metadata": {},
   "outputs": [],
   "source": [
    "images.shape"
   ]
  },
  {
   "cell_type": "code",
   "execution_count": null,
   "metadata": {},
   "outputs": [],
   "source": [
    "split_iamges=np.array_split(images,739)"
   ]
  },
  {
   "cell_type": "code",
   "execution_count": null,
   "metadata": {},
   "outputs": [],
   "source": [
    "transform=transforms.ToTensor()"
   ]
  },
  {
   "cell_type": "markdown",
   "metadata": {},
   "source": [
    "transform=transforms.ToTensor()\n",
    "images_ten=[]\n",
    "for image in images:\n",
    "    images_ten.append(transform(image))"
   ]
  },
  {
   "cell_type": "markdown",
   "metadata": {},
   "source": [
    "i=0m\n",
    "for image in images:\n",
    "    ScaledImages[i]=(((image-np.min(image))/(np.max(image)-np.min(image))))\n",
    "    i+=1"
   ]
  },
  {
   "cell_type": "code",
   "execution_count": null,
   "metadata": {},
   "outputs": [],
   "source": [
    "class Autoencoders(nn.Module):\n",
    "    def __init__(self):\n",
    "        super().__init__()\n",
    "        self.Encoders=nn.Sequential(\n",
    "            nn.Conv2d(3,16,3),\n",
    "            nn.ReLU(),\n",
    "            nn.Conv2d(16,32,5),\n",
    "            nn.ReLU(),\n",
    "            nn.Conv2d(32,64,8),\n",
    "            nn.ReLU(),\n",
    "            nn.Conv2d(64,32,4),\n",
    "            nn.ReLU(),\n",
    "            nn.Conv2d(32,16,5),\n",
    "            nn.ReLU(),\n",
    "            nn.Conv2d(16,4,6)\n",
    "        )\n",
    "\n",
    "        self.Decoders=nn.Sequential(\n",
    "            nn.ConvTranspose2d(4,16,6),\n",
    "            nn.ReLU(),\n",
    "            nn.ConvTranspose2d(16,32,5),\n",
    "            nn.ReLU(),\n",
    "            nn.ConvTranspose2d(32,64,4),\n",
    "            nn.ReLU(),\n",
    "            nn.ConvTranspose2d(64,32,8),\n",
    "            nn.ReLU(),\n",
    "            nn.ConvTranspose2d(32,16,5),\n",
    "            nn.ReLU(),\n",
    "            nn.ConvTranspose2d(16,3,3),\n",
    "        )\n",
    "\n",
    "    def forward(self,Dataset):\n",
    "        Encoded=self.Encoders(Dataset)\n",
    "        Decoded=self.Decoders(Encoded)\n",
    "        return(Decoded)"
   ]
  },
  {
   "cell_type": "code",
   "execution_count": null,
   "metadata": {},
   "outputs": [],
   "source": [
    "model=Autoencoders().to(device)\n",
    "LossFunc=nn.MSELoss()\n",
    "Optm=Adam(params=model.parameters(),lr=1e-3)"
   ]
  },
  {
   "cell_type": "code",
   "execution_count": null,
   "metadata": {},
   "outputs": [],
   "source": [
    "epochs=20\n",
    "outputs=[]\n",
    "\n",
    "for epoch in range(epochs):\n",
    "    for arr in split_iamges:\n",
    "        for listarray in arr:\n",
    "            \n",
    "            listarray=np.array(listarray)\n",
    "            listarray=transform(listarray)\n",
    "            listarray=listarray.to(device)\n",
    "\n",
    "            genimg=model(listarray)\n",
    "            loss=LossFunc(genimg,listarray)\n",
    "\n",
    "            Optm.zero_grad()\n",
    "            loss.backward()\n",
    "            Optm.step()\n",
    "\n",
    "    print(f\"Epochs:{epoch+1},Loss:{loss.item():4f}\")\n",
    "    outputs.append((epoch,listarray,genimg))\n",
    "        \n",
    "    "
   ]
  },
  {
   "cell_type": "code",
   "execution_count": null,
   "metadata": {},
   "outputs": [],
   "source": [
    "tempInput"
   ]
  },
  {
   "cell_type": "code",
   "execution_count": null,
   "metadata": {},
   "outputs": [],
   "source": [
    "\n",
    "\n",
    "for k in range(0, epochs, 4):\n",
    "    plt.figure(figsize=(9, 2))\n",
    "    plt.gray()\n",
    "    imgs = (outputs[k][1].to(\"cpu\")).detach().numpy()\n",
    "    recon = (outputs[k][2].to(\"cpu\")).detach().numpy()\n",
    "    for i, item in enumerate(imgs):\n",
    "        if i >= 9: break\n",
    "        plt.subplot(2, 9, i+1)\n",
    "        # item = item.reshape(-1, 28,28) # -> use for Autoencoder_Linear\n",
    "        # item: 1, 28, 28\n",
    "        plt.imshow((item))\n",
    "            \n",
    "    for i, item in enumerate(recon):\n",
    "        if i >= 9: break\n",
    "        plt.subplot(2, 9, 9+i+1) # row_length + i + 1\n",
    "        # item = item.reshape(-1, 28,28) # -> use for Autoencoder_Linear\n",
    "        # item: 1, 28, 28\n",
    "        plt.imshow(recon.transpose(1,2,0))\n",
    "\n"
   ]
  },
  {
   "cell_type": "code",
   "execution_count": null,
   "metadata": {},
   "outputs": [],
   "source": []
  },
  {
   "cell_type": "code",
   "execution_count": null,
   "metadata": {},
   "outputs": [],
   "source": [
    "for item in recon:\n",
    "    print(recon.shape)"
   ]
  }
 ],
 "metadata": {
  "kernelspec": {
   "display_name": "base",
   "language": "python",
   "name": "python3"
  },
  "language_info": {
   "codemirror_mode": {
    "name": "ipython",
    "version": 3
   },
   "file_extension": ".py",
   "mimetype": "text/x-python",
   "name": "python",
   "nbconvert_exporter": "python",
   "pygments_lexer": "ipython3",
   "version": "3.11.5"
  }
 },
 "nbformat": 4,
 "nbformat_minor": 2
}
