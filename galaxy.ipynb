{
 "cells": [
  {
   "cell_type": "code",
   "execution_count": 2,
   "metadata": {},
   "outputs": [
    {
     "data": {
      "text/plain": [
       "'cuda'"
      ]
     },
     "execution_count": 2,
     "metadata": {},
     "output_type": "execute_result"
    }
   ],
   "source": [
    "import pandas as pd\n",
    "import os \n",
    "import numpy as np\n",
    "\n",
    "import matplotlib.pyplot as plt\n",
    "import seaborn as sn\n",
    "\n",
    "from sklearn.model_selection import train_test_split\n",
    "from sklearn.metrics import confusion_matrix\n",
    "from sklearn.preprocessing import normalize\n",
    "from sklearn.preprocessing import MinMaxScaler\n",
    "\n",
    "import torch\n",
    "from torch import  nn\n",
    "from torchvision import transforms ,datasets\n",
    "from torch.utils.data import DataLoader\n",
    "from torch.optim import Adam\n",
    "import torch.optim.lr_scheduler as lr_scheduler\n",
    "\n",
    "device = \"cuda\" if torch.cuda.is_available() else \"cpu\"\n",
    "device\n"
   ]
  },
  {
   "cell_type": "code",
   "execution_count": 3,
   "metadata": {},
   "outputs": [],
   "source": [
    "images=np.load(\"/home/yash/Downloads/Dataset PAAC/Galaxy10 datasets/DECals/images-001.npy\")\n",
    "labels=np.load(\"/home/yash/Downloads/Dataset PAAC/Galaxy10 datasets/DECals/labels.npy\")"
   ]
  },
  {
   "cell_type": "code",
   "execution_count": 4,
   "metadata": {},
   "outputs": [],
   "source": [
    "split_iamges=np.array_split(images,739)"
   ]
  },
  {
   "cell_type": "code",
   "execution_count": 5,
   "metadata": {},
   "outputs": [],
   "source": [
    "transform=transforms.ToTensor()"
   ]
  },
  {
   "cell_type": "markdown",
   "metadata": {},
   "source": [
    "transform=transforms.ToTensor()\n",
    "images_ten=[]\n",
    "for image in images:\n",
    "    images_ten.append(transform(image))"
   ]
  },
  {
   "cell_type": "markdown",
   "metadata": {},
   "source": [
    "i=0m\n",
    "for image in images:\n",
    "    ScaledImages[i]=(((image-np.min(image))/(np.max(image)-np.min(image))))\n",
    "    i+=1"
   ]
  },
  {
   "cell_type": "code",
   "execution_count": 6,
   "metadata": {},
   "outputs": [],
   "source": [
    "class Autoencoders(nn.Module):\n",
    "    def __init__(self):\n",
    "        super().__init__()\n",
    "        self.Encoders=nn.Sequential(\n",
    "            nn.Conv2d(3,16,3),\n",
    "            nn.ReLU(),\n",
    "            nn.Conv2d(16,32,5),\n",
    "            nn.ReLU(),\n",
    "            nn.Conv2d(32,64,8),\n",
    "            nn.ReLU(),\n",
    "            nn.Conv2d(64,32,4),\n",
    "            nn.ReLU(),\n",
    "            nn.Conv2d(32,16,5),\n",
    "            nn.ReLU(),\n",
    "            nn.Conv2d(16,4,6)\n",
    "        )\n",
    "\n",
    "        self.Decoders=nn.Sequential(\n",
    "            nn.ConvTranspose2d(4,16,6),\n",
    "            nn.ReLU(),\n",
    "            nn.ConvTranspose2d(16,32,5),\n",
    "            nn.ReLU(),\n",
    "            nn.ConvTranspose2d(32,64,4),\n",
    "            nn.ReLU(),\n",
    "            nn.ConvTranspose2d(64,32,8),\n",
    "            nn.ReLU(),\n",
    "            nn.ConvTranspose2d(32,16,5),\n",
    "            nn.ReLU(),\n",
    "            nn.ConvTranspose2d(16,3,3),\n",
    "            nn.Sigmoid()\n",
    "        )\n",
    "\n",
    "    def forward(self,Dataset):\n",
    "        Encoded=self.Encoders(Dataset)\n",
    "        Decoded=self.Decoders(Encoded)\n",
    "        return(Decoded)"
   ]
  },
  {
   "cell_type": "code",
   "execution_count": 7,
   "metadata": {},
   "outputs": [],
   "source": [
    "model=Autoencoders().to(device)\n",
    "LossFunc=nn.MSELoss()\n",
    "Optm=Adam(params=model.parameters(),lr=1e-3)"
   ]
  },
  {
   "cell_type": "code",
   "execution_count": 8,
   "metadata": {},
   "outputs": [
    {
     "name": "stderr",
     "output_type": "stream",
     "text": [
      "/home/yash/anaconda3/lib/python3.11/site-packages/torch/nn/modules/conv.py:456: UserWarning: Applied workaround for CuDNN issue, install nvrtc.so (Triggered internally at ../aten/src/ATen/native/cudnn/Conv_v8.cpp:80.)\n",
      "  return F.conv2d(input, weight, bias, self.stride,\n"
     ]
    },
    {
     "name": "stdout",
     "output_type": "stream",
     "text": [
      "Epochs:1,Loss:0.004653\n",
      "Epochs:2,Loss:0.002143\n",
      "Epochs:3,Loss:0.002071\n"
     ]
    },
    {
     "ename": "KeyboardInterrupt",
     "evalue": "",
     "output_type": "error",
     "traceback": [
      "\u001b[0;31m---------------------------------------------------------------------------\u001b[0m",
      "\u001b[0;31mKeyboardInterrupt\u001b[0m                         Traceback (most recent call last)",
      "Cell \u001b[0;32mIn[8], line 10\u001b[0m\n\u001b[1;32m      8\u001b[0m listarray\u001b[38;5;241m=\u001b[39mnp\u001b[38;5;241m.\u001b[39marray(listarray)\n\u001b[1;32m      9\u001b[0m listarray\u001b[38;5;241m=\u001b[39mtransform(listarray)\n\u001b[0;32m---> 10\u001b[0m listarray\u001b[38;5;241m=\u001b[39mlistarray\u001b[38;5;241m.\u001b[39mto(device)\n\u001b[1;32m     12\u001b[0m genimg\u001b[38;5;241m=\u001b[39mmodel(listarray)\n\u001b[1;32m     13\u001b[0m loss\u001b[38;5;241m=\u001b[39mLossFunc(genimg,listarray)\n",
      "\u001b[0;31mKeyboardInterrupt\u001b[0m: "
     ]
    }
   ],
   "source": [
    "epochs=20\n",
    "outputs=[]\n",
    "\n",
    "for epoch in range(epochs):\n",
    "    for arr in split_iamges:\n",
    "        for listarray in arr:\n",
    "            \n",
    "            listarray=np.array(listarray)\n",
    "            listarray=transform(listarray)\n",
    "            listarray=listarray.to(device)\n",
    "\n",
    "            genimg=model(listarray)\n",
    "            loss=LossFunc(genimg,listarray)\n",
    "\n",
    "            Optm.zero_grad()\n",
    "            loss.backward()\n",
    "            Optm.step()\n",
    "\n",
    "    print(f\"Epochs:{epoch+1},Loss:{loss.item():4f}\")\n",
    "    outputs.append((epoch,listarray,genimg))\n",
    "        \n",
    "    "
   ]
  }
 ],
 "metadata": {
  "kernelspec": {
   "display_name": "base",
   "language": "python",
   "name": "python3"
  },
  "language_info": {
   "codemirror_mode": {
    "name": "ipython",
    "version": 3
   },
   "file_extension": ".py",
   "mimetype": "text/x-python",
   "name": "python",
   "nbconvert_exporter": "python",
   "pygments_lexer": "ipython3",
   "version": "3.11.5"
  }
 },
 "nbformat": 4,
 "nbformat_minor": 2
}
