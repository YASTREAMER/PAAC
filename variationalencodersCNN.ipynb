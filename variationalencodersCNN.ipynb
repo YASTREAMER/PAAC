{
 "cells": [
  {
   "cell_type": "code",
   "execution_count": 12,
   "metadata": {},
   "outputs": [
    {
     "data": {
      "text/plain": [
       "'cuda'"
      ]
     },
     "execution_count": 12,
     "metadata": {},
     "output_type": "execute_result"
    }
   ],
   "source": [
    "import pandas as pd\n",
    "import os \n",
    "import numpy as np\n",
    "\n",
    "import matplotlib.pyplot as plt\n",
    "import seaborn as sn\n",
    "\n",
    "from sklearn.model_selection import train_test_split\n",
    "from sklearn.metrics import confusion_matrix\n",
    "\n",
    "import torch\n",
    "from torch import  nn\n",
    "from torchvision import transforms ,datasets\n",
    "from torch.utils.data import DataLoader\n",
    "from torch.optim import Adam\n",
    "import torch.optim.lr_scheduler as lr_scheduler\n",
    "\n",
    "from tqdm.notebook import tqdm\n",
    "\n",
    "device = \"cuda\" if torch.cuda.is_available() else \"cpu\"\n",
    "device"
   ]
  },
  {
   "cell_type": "code",
   "execution_count": 13,
   "metadata": {},
   "outputs": [],
   "source": [
    "\n",
    "InputDimCNN=3\n",
    "HiddenDimCNN=16\n",
    "OutputDimCNN=1\n",
    "\n",
    "LR_rate=1e-3\n",
    "Num_epochs=10\n",
    "batch_size=512\n"
   ]
  },
  {
   "cell_type": "code",
   "execution_count": 18,
   "metadata": {},
   "outputs": [],
   "source": [
    "class VARAutoencodersCNN(nn.Module):\n",
    "    def __init__(self,input_dim,hidden_dim,z_dim):\n",
    "        super().__init__()\n",
    "\n",
    "        #Encoder\n",
    "        self.img_2hid=nn.Conv2d(input_dim,hidden_dim,3)\n",
    "        self.hid_2mu=nn.Conv2d(hidden_dim,z_dim,3)\n",
    "        self.hid_2sigma=nn.Conv2d(hidden_dim,z_dim,3)\n",
    "\n",
    "        #Decoder\n",
    "\n",
    "        self.z_2hid=nn.ConvTranspose2d(z_dim,hidden_dim,3)\n",
    "        self.hid_2img=nn.ConvTranspose2d(hidden_dim,input_dim,3)\n",
    "\n",
    "\n",
    "        self.Relu=nn.ReLU()\n",
    "        self.sigmoid=nn.Sigmoid()\n",
    "        pass\n",
    "    \n",
    "    def Encoder(self,x):\n",
    "        hd=self.Relu(self.img_2hid(x))\n",
    "        mu,sigma=self.hid_2mu(hd),self.hid_2sigma(hd)\n",
    "        return(mu,sigma)\n",
    "\n",
    "    def Decoder(self,z):\n",
    "\n",
    "        h=self.Relu(self.z_2hid(z))\n",
    "        out=self.sigmoid(self.hid_2img(h))\n",
    "        return(out)\n",
    "\n",
    "    def forward(self,Dataset):\n",
    "\n",
    "        mu,sigma=self.Encoder(Dataset)\n",
    "        epsilon=torch.rand_like(sigma)\n",
    "        z_parameterized=mu+sigma*epsilon\n",
    "\n",
    "        x_recontructed=self.Decoder(z_parameterized)\n",
    "\n",
    "        return(x_recontructed,mu,sigma)\n",
    "    \n",
    "    # hidden_dim2,hidden_dim3,"
   ]
  },
  {
   "cell_type": "code",
   "execution_count": 19,
   "metadata": {},
   "outputs": [
    {
     "name": "stdout",
     "output_type": "stream",
     "text": [
      "Files already downloaded and verified\n",
      "Files already downloaded and verified\n"
     ]
    }
   ],
   "source": [
    "TrainData=datasets.CIFAR10(root=\"/home/yash/CNN_Data\",train=True,transform=transforms.ToTensor(),download=True)\n",
    "TestData=datasets.CIFAR10(root=\"/home/yash/CNN_Data\",train=False,transform=transforms.ToTensor(),download=True) \n",
    "#Use this for the CIFAR10 Dataset\n",
    "\n",
    "# TrainData=datasets.MNIST(root=\"/home/yash/CNN_Data\",train=True,transform=transforms.ToTensor(),download=True)\n",
    "# TestData=datasets.MNIST(root=\"/home/yash/CNN_Data\",train=False,transform=transforms.ToTensor(),download=True) \n",
    "TrainDataSet=DataLoader(TrainData,batch_size=batch_size)\n",
    "TestDataSet=DataLoader(TestData,batch_size=batch_size)"
   ]
  },
  {
   "cell_type": "code",
   "execution_count": 20,
   "metadata": {},
   "outputs": [],
   "source": [
    "vaeCnn=VARAutoencodersCNN(InputDimCNN,HiddenDimCNN,OutputDimCNN).to(device)\n",
    "Opt=Adam(vaeCnn.parameters(),lr=LR_rate)\n",
    "loss_fn=nn.BCELoss(reduction=\"sum\")"
   ]
  },
  {
   "cell_type": "code",
   "execution_count": 21,
   "metadata": {},
   "outputs": [
    {
     "data": {
      "application/vnd.jupyter.widget-view+json": {
       "model_id": "34f5487b767d4b80956be9e7573d013c",
       "version_major": 2,
       "version_minor": 0
      },
      "text/plain": [
       "0it [00:00, ?it/s]"
      ]
     },
     "metadata": {},
     "output_type": "display_data"
    },
    {
     "data": {
      "application/vnd.jupyter.widget-view+json": {
       "model_id": "6a628e49b3d6489791f33fe4703e067f",
       "version_major": 2,
       "version_minor": 0
      },
      "text/plain": [
       "0it [00:00, ?it/s]"
      ]
     },
     "metadata": {},
     "output_type": "display_data"
    },
    {
     "data": {
      "application/vnd.jupyter.widget-view+json": {
       "model_id": "1b3140de9d0f4f849da85e316c138ff9",
       "version_major": 2,
       "version_minor": 0
      },
      "text/plain": [
       "0it [00:00, ?it/s]"
      ]
     },
     "metadata": {},
     "output_type": "display_data"
    },
    {
     "data": {
      "application/vnd.jupyter.widget-view+json": {
       "model_id": "86f08c72e650486f8562b742440b32c1",
       "version_major": 2,
       "version_minor": 0
      },
      "text/plain": [
       "0it [00:00, ?it/s]"
      ]
     },
     "metadata": {},
     "output_type": "display_data"
    },
    {
     "data": {
      "application/vnd.jupyter.widget-view+json": {
       "model_id": "45d7923b3efb4ae9bb4a52536248dfe9",
       "version_major": 2,
       "version_minor": 0
      },
      "text/plain": [
       "0it [00:00, ?it/s]"
      ]
     },
     "metadata": {},
     "output_type": "display_data"
    },
    {
     "data": {
      "application/vnd.jupyter.widget-view+json": {
       "model_id": "f08aa6d71c1247f1a1b012b997960b45",
       "version_major": 2,
       "version_minor": 0
      },
      "text/plain": [
       "0it [00:00, ?it/s]"
      ]
     },
     "metadata": {},
     "output_type": "display_data"
    },
    {
     "data": {
      "application/vnd.jupyter.widget-view+json": {
       "model_id": "2eb7da91cd6148c9b512b66cc1660517",
       "version_major": 2,
       "version_minor": 0
      },
      "text/plain": [
       "0it [00:00, ?it/s]"
      ]
     },
     "metadata": {},
     "output_type": "display_data"
    },
    {
     "data": {
      "application/vnd.jupyter.widget-view+json": {
       "model_id": "019f28d677a04a3a89e2074129939ca2",
       "version_major": 2,
       "version_minor": 0
      },
      "text/plain": [
       "0it [00:00, ?it/s]"
      ]
     },
     "metadata": {},
     "output_type": "display_data"
    },
    {
     "data": {
      "application/vnd.jupyter.widget-view+json": {
       "model_id": "686c918460444baaad1a868a7224ce0d",
       "version_major": 2,
       "version_minor": 0
      },
      "text/plain": [
       "0it [00:00, ?it/s]"
      ]
     },
     "metadata": {},
     "output_type": "display_data"
    },
    {
     "data": {
      "application/vnd.jupyter.widget-view+json": {
       "model_id": "a39797ee50814c7f91f868ec339856ee",
       "version_major": 2,
       "version_minor": 0
      },
      "text/plain": [
       "0it [00:00, ?it/s]"
      ]
     },
     "metadata": {},
     "output_type": "display_data"
    }
   ],
   "source": [
    "for epochs in range(Num_epochs):\n",
    "    loop=tqdm(enumerate(TrainDataSet),colour=\"Blue\")\n",
    "\n",
    "    for i, (x,_) in loop:\n",
    "        x=x.to(device)\n",
    "        x_recontructed,mu,sigma=vaeCnn(x)\n",
    "\n",
    "\n",
    "        recontructed_loss=loss_fn(x_recontructed,x)\n",
    "        kl_div=-torch.sum(1+torch.log(sigma.pow(2))-mu.pow(2)-sigma.pow(2))\n",
    "\n",
    "        loss=recontructed_loss+kl_div\n",
    "\n",
    "        Opt.zero_grad()\n",
    "        loss.backward()\n",
    "        Opt.step()\n",
    "        \n",
    "        loop.set_postfix(loss=loss.item(),epoch=epochs+1)"
   ]
  }
 ],
 "metadata": {
  "kernelspec": {
   "display_name": "base",
   "language": "python",
   "name": "python3"
  },
  "language_info": {
   "codemirror_mode": {
    "name": "ipython",
    "version": 3
   },
   "file_extension": ".py",
   "mimetype": "text/x-python",
   "name": "python",
   "nbconvert_exporter": "python",
   "pygments_lexer": "ipython3",
   "version": "3.11.5"
  }
 },
 "nbformat": 4,
 "nbformat_minor": 2
}
