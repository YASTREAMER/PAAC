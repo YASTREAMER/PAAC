{
 "cells": [
  {
   "cell_type": "code",
   "execution_count": null,
   "metadata": {},
   "outputs": [],
   "source": [
    "import pandas as pd\n",
    "import os \n",
    "import numpy as np\n",
    "\n",
    "import matplotlib.pyplot as plt\n",
    "import seaborn as sn\n",
    "\n",
    "from sklearn.model_selection import train_test_split\n",
    "from sklearn.metrics import confusion_matrix\n",
    "\n",
    "import torch\n",
    "from torch import  nn\n",
    "from torchvision import transforms ,datasets\n",
    "from torch.utils.data import DataLoader\n",
    "from torch.optim import Adam\n",
    "import torch.optim.lr_scheduler as lr_scheduler\n",
    "\n",
    "from tqdm.notebook import tqdm\n",
    "\n",
    "device = \"cuda\" if torch.cuda.is_available() else \"cpu\"\n",
    "device"
   ]
  },
  {
   "cell_type": "code",
   "execution_count": null,
   "metadata": {},
   "outputs": [],
   "source": [
    "class VARAutoencodersCNN(nn.Module):\n",
    "    def __init__(self,input_dim,hidden_dim,z_dim):\n",
    "        super().__init__()\n",
    "\n",
    "        #Encoder\n",
    "        self.img_2hid=nn.Conv2d(input_dim,hidden_dim,3)\n",
    "        self.hid_2mu=nn.Conv2d(hidden_dim,z_dim,3)\n",
    "        self.hid_2sigma=nn.Conv2d(hidden_dim,z_dim,3)\n",
    "\n",
    "        #Decoder\n",
    "\n",
    "        self.z_2hid=nn.Conv2d(z_dim,hidden_dim,3)\n",
    "        self.hid_2img=nn.Conv2d(hidden_dim,input_dim,3)\n",
    "\n",
    "\n",
    "        self.Relu=nn.ReLU()\n",
    "        self.sigmoid=nn.Sigmoid()\n",
    "        pass\n",
    "    \n",
    "    def Encoder(self,x):\n",
    "        hd=self.Relu(self.img_2hid(x))\n",
    "        mu,sigma=self.hid_2mu(hd),self.hid_2sigma(hd)\n",
    "        return(mu,sigma)\n",
    "\n",
    "    def Decoder(self,z):\n",
    "\n",
    "        h=self.Relu(self.z_2hid(z))\n",
    "        out=self.sigmoid(self.hid_2img(h))\n",
    "        return(out)\n",
    "\n",
    "    def forward(self,Dataset):\n",
    "\n",
    "        mu,sigma=self.Encoder(Dataset)\n",
    "        epsilon=torch.rand_like(sigma)\n",
    "        z_parameterized=mu+sigma*epsilon\n",
    "\n",
    "        x_recontructed=self.Decoder(z_parameterized)\n",
    "\n",
    "        return(x_recontructed,mu,sigma)"
   ]
  },
  {
   "cell_type": "code",
   "execution_count": null,
   "metadata": {},
   "outputs": [],
   "source": [
    "\n",
    "InputDimCNN=1\n",
    "HiddenDimCNN=3\n",
    "OutputDimCNN=1\n",
    "\n",
    "LR_rate=1e-3\n",
    "Num_epochs=10\n",
    "batch_size=512\n"
   ]
  },
  {
   "cell_type": "code",
   "execution_count": null,
   "metadata": {},
   "outputs": [],
   "source": [
    "vaeLin=VARAutoencodersLinear(InputDim,HiddenDim,OutputDim).to(device)\n",
    "Optimizer=Adam(vaeLin.parameters(),lr=LR_rate)\n",
    "loss_fn=nn.BCELoss(reduction=\"sum\")"
   ]
  },
  {
   "cell_type": "code",
   "execution_count": null,
   "metadata": {},
   "outputs": [],
   "source": [
    "TrainData=datasets.CIFAR10(root=\"/home/yash/CNN_Data\",train=True,transform=transforms.ToTensor(),download=True)\n",
    "TestData=datasets.CIFAR10(root=\"/home/yash/CNN_Data\",train=False,transform=transforms.ToTensor(),download=True) \n",
    "#Use this for the CIFAR10 Dataset\n",
    "\n",
    "# TrainData=datasets.MNIST(root=\"/home/yash/CNN_Data\",train=True,transform=transforms.ToTensor(),download=True)\n",
    "# TestData=datasets.MNIST(root=\"/home/yash/CNN_Data\",train=False,transform=transforms.ToTensor(),download=True) \n",
    "TrainDataSet=DataLoader(TrainData,batch_size=batch_size)\n",
    "TestDataSet=DataLoader(TestData,batch_size=batch_size)"
   ]
  }
 ],
 "metadata": {
  "language_info": {
   "name": "python"
  }
 },
 "nbformat": 4,
 "nbformat_minor": 2
}
