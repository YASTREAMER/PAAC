{
 "cells": [
  {
   "cell_type": "code",
   "execution_count": 1,
   "metadata": {},
   "outputs": [
    {
     "data": {
      "text/plain": [
       "'cuda'"
      ]
     },
     "execution_count": 1,
     "metadata": {},
     "output_type": "execute_result"
    }
   ],
   "source": [
    "import pandas as pd\n",
    "import os \n",
    "import numpy as np\n",
    "\n",
    "import matplotlib.pyplot as plt\n",
    "import seaborn as sn\n",
    "\n",
    "from sklearn.model_selection import train_test_split\n",
    "from sklearn.metrics import confusion_matrix\n",
    "\n",
    "import torch\n",
    "from torch import  nn\n",
    "from torchvision import transforms ,datasets\n",
    "from torch.utils.data import DataLoader\n",
    "from torch.optim import Adam\n",
    "import torch.optim.lr_scheduler as lr_scheduler\n",
    "from torchvision.utils import save_image\n",
    "\n",
    "from PIL import Image\n",
    "\n",
    "from tqdm.notebook import tqdm\n",
    "\n",
    "device = \"cuda\" if torch.cuda.is_available() else \"cpu\"\n",
    "device"
   ]
  },
  {
   "cell_type": "code",
   "execution_count": 2,
   "metadata": {},
   "outputs": [],
   "source": [
    "class VARAutoencodersCNN(nn.Module):\n",
    "    def __init__(self):\n",
    "        super().__init__()\n",
    "\n",
    "        #Encoder\n",
    "        self.Conv1=nn.Conv2d(3,16,3)\n",
    "        self.Conv2=nn.Conv2d(16,32,3)\n",
    "        self.Conv3=nn.Conv2d(32,8,3)\n",
    "        self.Conv4=nn.Conv2d(8,1,3)\n",
    "        self.flat=nn.Flatten()\n",
    "        self.Dense=nn.Linear(in_features=576,out_features=64)\n",
    "        self.Dense2=nn.Linear(in_features=64,out_features=16)\n",
    "        self.Mu=nn.Linear(in_features=16,out_features=20)\n",
    "        self.Simga=nn.Linear(in_features=16,out_features=20)\n",
    "        self.Relu=nn.ReLU()\n",
    "        self.Sigmoid=nn.Sigmoid()\n",
    "\n",
    "        #Decoder\n",
    "        self.UNDense=nn.Linear(20,16)\n",
    "        self.UNDense1=nn.Linear(16,64)\n",
    "        self.UNDense2=nn.Linear(64,576)\n",
    "        self.UNFlat=nn.Unflatten(1,(1,24,24))\n",
    "        self.Unconv1=nn.ConvTranspose2d(1,8,3)\n",
    "        self.Unconv2=nn.ConvTranspose2d(8,32,3)\n",
    "        self.Unconv3=nn.ConvTranspose2d(32,16,3)\n",
    "        self.Unconv4=nn.ConvTranspose2d(16,3,3)\n",
    "\n",
    "    def Encoder(self,Dataset):\n",
    "        x=self.Conv1(Dataset)\n",
    "        x=self.Relu(x)\n",
    "        x=self.Conv2(x)\n",
    "        x=self.Relu(x)\n",
    "        x=self.Conv3(x)\n",
    "        x=self.Relu(x)\n",
    "        x=self.Conv4(x)\n",
    "        # print(x.shape)\n",
    "        x=self.Relu(x)\n",
    "        x=self.flat(x)\n",
    "        # print(x.shape)\n",
    "        x=self.Dense(x)\n",
    "        x=self.Dense2(x)\n",
    "        mu,sigma=self.Mu(x),self.Simga(x)\n",
    "        return (mu,sigma)\n",
    "\n",
    "\n",
    "    def Decoder(self,Dataset):\n",
    "        x=self.UNDense(Dataset)\n",
    "        x=self.Relu(x)\n",
    "        x=self.UNDense1(x)\n",
    "        x=self.Relu(x)\n",
    "        x=self.UNDense2(x)\n",
    "        x=self.Relu(x)\n",
    "        x=self.UNFlat(x)\n",
    "        x=self.Unconv1(x)\n",
    "        x=self.Relu(x)\n",
    "        x=self.Unconv2(x)\n",
    "        x=self.Relu(x)\n",
    "        x=self.Unconv3(x)\n",
    "        x=self.Relu(x)\n",
    "        x=self.Unconv4(x)\n",
    "        x_recontructed=self.Sigmoid(x)\n",
    "        return x_recontructed\n",
    "\n",
    "    def forward(self,Dataset):\n",
    "        mu,sigma=self.Encoder(Dataset)\n",
    "        epsilon=torch.rand_like(sigma)\n",
    "        z_parameterized=mu+sigma*epsilon\n",
    "        x_recontructed=self.Decoder(z_parameterized)\n",
    "        return (x_recontructed,mu,sigma)"
   ]
  },
  {
   "cell_type": "code",
   "execution_count": 3,
   "metadata": {},
   "outputs": [],
   "source": [
    "LR_rate=3e-4\n",
    "Num_epochs=20\n",
    "batch_size=512\n",
    "loss_val=[]\n",
    "epochs_val=[]"
   ]
  },
  {
   "cell_type": "code",
   "execution_count": 4,
   "metadata": {},
   "outputs": [
    {
     "name": "stdout",
     "output_type": "stream",
     "text": [
      "Files already downloaded and verified\n",
      "Files already downloaded and verified\n"
     ]
    }
   ],
   "source": [
    "TrainData=datasets.CIFAR10(root=\"/home/yash/CNN_Data\",train=True,transform=transforms.ToTensor(),download=True)\n",
    "TestData=datasets.CIFAR10(root=\"/home/yash/CNN_Data\",train=False,transform=transforms.ToTensor(),download=True) \n",
    "\n",
    "TrainDataSet=DataLoader(TrainData,batch_size=batch_size)\n",
    "TestDataSet=DataLoader(TestData,batch_size=batch_size)"
   ]
  },
  {
   "cell_type": "code",
   "execution_count": 5,
   "metadata": {},
   "outputs": [],
   "source": [
    "vaeCnn=VARAutoencodersCNN().to(device)\n",
    "Opt=Adam(vaeCnn.parameters(),lr=LR_rate)\n",
    "loss_fn=nn.MSELoss(reduction=\"sum\")"
   ]
  },
  {
   "cell_type": "code",
   "execution_count": 6,
   "metadata": {},
   "outputs": [
    {
     "data": {
      "application/vnd.jupyter.widget-view+json": {
       "model_id": "6df88e024cb74fdfb092faea5bceadfb",
       "version_major": 2,
       "version_minor": 0
      },
      "text/plain": [
       "0it [00:00, ?it/s]"
      ]
     },
     "metadata": {},
     "output_type": "display_data"
    },
    {
     "name": "stderr",
     "output_type": "stream",
     "text": [
      "/home/yash/anaconda3/lib/python3.11/site-packages/torch/nn/modules/conv.py:456: UserWarning: Applied workaround for CuDNN issue, install nvrtc.so (Triggered internally at ../aten/src/ATen/native/cudnn/Conv_v8.cpp:80.)\n",
      "  return F.conv2d(input, weight, bias, self.stride,\n"
     ]
    },
    {
     "data": {
      "application/vnd.jupyter.widget-view+json": {
       "model_id": "b2cd07788d5040d88c92e1b691b5cfe4",
       "version_major": 2,
       "version_minor": 0
      },
      "text/plain": [
       "0it [00:00, ?it/s]"
      ]
     },
     "metadata": {},
     "output_type": "display_data"
    },
    {
     "data": {
      "application/vnd.jupyter.widget-view+json": {
       "model_id": "8c9551a00a784cf2ac0deb5f83c13aa6",
       "version_major": 2,
       "version_minor": 0
      },
      "text/plain": [
       "0it [00:00, ?it/s]"
      ]
     },
     "metadata": {},
     "output_type": "display_data"
    },
    {
     "data": {
      "application/vnd.jupyter.widget-view+json": {
       "model_id": "5fe10cc53a9744d0aed8242444f4875d",
       "version_major": 2,
       "version_minor": 0
      },
      "text/plain": [
       "0it [00:00, ?it/s]"
      ]
     },
     "metadata": {},
     "output_type": "display_data"
    },
    {
     "data": {
      "application/vnd.jupyter.widget-view+json": {
       "model_id": "d91b3ca229404767bbbfd2037cbfea5f",
       "version_major": 2,
       "version_minor": 0
      },
      "text/plain": [
       "0it [00:00, ?it/s]"
      ]
     },
     "metadata": {},
     "output_type": "display_data"
    },
    {
     "data": {
      "application/vnd.jupyter.widget-view+json": {
       "model_id": "bcb40bf321e34388af9cde74e3e79564",
       "version_major": 2,
       "version_minor": 0
      },
      "text/plain": [
       "0it [00:00, ?it/s]"
      ]
     },
     "metadata": {},
     "output_type": "display_data"
    },
    {
     "data": {
      "application/vnd.jupyter.widget-view+json": {
       "model_id": "3824cc64140e44f3a33214666ac30705",
       "version_major": 2,
       "version_minor": 0
      },
      "text/plain": [
       "0it [00:00, ?it/s]"
      ]
     },
     "metadata": {},
     "output_type": "display_data"
    },
    {
     "data": {
      "application/vnd.jupyter.widget-view+json": {
       "model_id": "26bfb94ebccd4f8386751e2e6663c543",
       "version_major": 2,
       "version_minor": 0
      },
      "text/plain": [
       "0it [00:00, ?it/s]"
      ]
     },
     "metadata": {},
     "output_type": "display_data"
    },
    {
     "data": {
      "application/vnd.jupyter.widget-view+json": {
       "model_id": "1d5a1bac012a48e29c815598f1a4fce7",
       "version_major": 2,
       "version_minor": 0
      },
      "text/plain": [
       "0it [00:00, ?it/s]"
      ]
     },
     "metadata": {},
     "output_type": "display_data"
    },
    {
     "data": {
      "application/vnd.jupyter.widget-view+json": {
       "model_id": "18e81f82555e4197aa83207a052a82b7",
       "version_major": 2,
       "version_minor": 0
      },
      "text/plain": [
       "0it [00:00, ?it/s]"
      ]
     },
     "metadata": {},
     "output_type": "display_data"
    },
    {
     "data": {
      "application/vnd.jupyter.widget-view+json": {
       "model_id": "ca70ecc0b8ce4cbb926993f692542714",
       "version_major": 2,
       "version_minor": 0
      },
      "text/plain": [
       "0it [00:00, ?it/s]"
      ]
     },
     "metadata": {},
     "output_type": "display_data"
    },
    {
     "data": {
      "application/vnd.jupyter.widget-view+json": {
       "model_id": "b9b4857355a84fc8b649ec950e666650",
       "version_major": 2,
       "version_minor": 0
      },
      "text/plain": [
       "0it [00:00, ?it/s]"
      ]
     },
     "metadata": {},
     "output_type": "display_data"
    },
    {
     "data": {
      "application/vnd.jupyter.widget-view+json": {
       "model_id": "dea2c93918a744189460a2487b9b102b",
       "version_major": 2,
       "version_minor": 0
      },
      "text/plain": [
       "0it [00:00, ?it/s]"
      ]
     },
     "metadata": {},
     "output_type": "display_data"
    },
    {
     "data": {
      "application/vnd.jupyter.widget-view+json": {
       "model_id": "17161652ad1948cb884ef45e83b13b54",
       "version_major": 2,
       "version_minor": 0
      },
      "text/plain": [
       "0it [00:00, ?it/s]"
      ]
     },
     "metadata": {},
     "output_type": "display_data"
    },
    {
     "data": {
      "application/vnd.jupyter.widget-view+json": {
       "model_id": "ac93996b97fe4181b2278ada0d2b5a32",
       "version_major": 2,
       "version_minor": 0
      },
      "text/plain": [
       "0it [00:00, ?it/s]"
      ]
     },
     "metadata": {},
     "output_type": "display_data"
    },
    {
     "data": {
      "application/vnd.jupyter.widget-view+json": {
       "model_id": "5923edd873094f248599dcf38451cdba",
       "version_major": 2,
       "version_minor": 0
      },
      "text/plain": [
       "0it [00:00, ?it/s]"
      ]
     },
     "metadata": {},
     "output_type": "display_data"
    },
    {
     "data": {
      "application/vnd.jupyter.widget-view+json": {
       "model_id": "282f5d3f2a6d492b9954cc03dcb5bed5",
       "version_major": 2,
       "version_minor": 0
      },
      "text/plain": [
       "0it [00:00, ?it/s]"
      ]
     },
     "metadata": {},
     "output_type": "display_data"
    },
    {
     "data": {
      "application/vnd.jupyter.widget-view+json": {
       "model_id": "f949b3e3d51046b5b3932ccf9cf2066b",
       "version_major": 2,
       "version_minor": 0
      },
      "text/plain": [
       "0it [00:00, ?it/s]"
      ]
     },
     "metadata": {},
     "output_type": "display_data"
    },
    {
     "data": {
      "application/vnd.jupyter.widget-view+json": {
       "model_id": "e6580575fd274d52b662c59a781deb8c",
       "version_major": 2,
       "version_minor": 0
      },
      "text/plain": [
       "0it [00:00, ?it/s]"
      ]
     },
     "metadata": {},
     "output_type": "display_data"
    },
    {
     "data": {
      "application/vnd.jupyter.widget-view+json": {
       "model_id": "67a4bf339227456aaeea33f04ae6fbd2",
       "version_major": 2,
       "version_minor": 0
      },
      "text/plain": [
       "0it [00:00, ?it/s]"
      ]
     },
     "metadata": {},
     "output_type": "display_data"
    }
   ],
   "source": [
    "for epochs in range(Num_epochs):\n",
    "    loop=tqdm(enumerate(TrainDataSet),colour=\"Blue\")\n",
    "\n",
    "    for i, (x,_) in loop:\n",
    "        x=x.to(device)\n",
    "        x_recontructed,mu,sigma=vaeCnn(x)\n",
    "\n",
    "        recontructed_loss=loss_fn(x_recontructed,x)\n",
    "        kl_div=-torch.sum(1+torch.log(sigma.pow(2))-mu.pow(2)-sigma.pow(2))\n",
    "\n",
    "        loss=recontructed_loss+kl_div\n",
    "\n",
    "        Opt.zero_grad()\n",
    "        loss.backward()\n",
    "        Opt.step()\n",
    "        \n",
    "        loop.set_postfix(loss=loss.item(),epoch=epochs+1)\n",
    "    loss_val.append(loss.item())\n",
    "    epochs_val.append(epochs+1)"
   ]
  },
  {
   "cell_type": "code",
   "execution_count": 7,
   "metadata": {},
   "outputs": [
    {
     "data": {
      "text/plain": [
       "[<matplotlib.lines.Line2D at 0x7f2719207c90>]"
      ]
     },
     "execution_count": 7,
     "metadata": {},
     "output_type": "execute_result"
    },
    {
     "data": {
      "image/png": "[encoded data removed]",
      "text/plain": [
       "<Figure size 640x480 with 1 Axes>"
      ]
     },
     "metadata": {},
     "output_type": "display_data"
    }
   ],
   "source": [
    "plt.plot(loss_val[1:19],epochs_val[1:19])"
   ]
  },
  {
   "cell_type": "code",
   "execution_count": 8,
   "metadata": {},
   "outputs": [],
   "source": [
    "class AdanceNN(nn.Module):\n",
    "    def __init__(self):\n",
    "        super().__init__()\n",
    "        self.Dense=nn.Linear(20,10)\n",
    "        self.Sigmoid=nn.Sigmoid()\n",
    "\n",
    "    def forward(self,Dataset):\n",
    "        x=self.Dense(Dataset)\n",
    "        x=self.Sigmoid(x)\n",
    "        return x"
   ]
  },
  {
   "cell_type": "code",
   "execution_count": null,
   "metadata": {},
   "outputs": [],
   "source": [
    "Model=AdanceNN()\n",
    "optimzer=Adam(Model.parameters(),lr=LR_rate)\n",
    "LossFn=nn.CrossEntropyLoss()"
   ]
  },
  {
   "cell_type": "code",
   "execution_count": null,
   "metadata": {},
   "outputs": [],
   "source": [
    "#Write the training loop\n",
    "\n",
    "\n",
    "for epochs in range(Num_epochs):\n",
    "\n",
    "    for i, (x,_) in loop:\n",
    "        x=x.to(device)\n",
    "        x_recontructed,mu,sigma=vaeCnn(x)\n",
    "\n",
    "        recontructed_loss=loss_fn(x_recontructed,x)\n",
    "        kl_div=-torch.sum(1+torch.log(sigma.pow(2))-mu.pow(2)-sigma.pow(2))\n",
    "\n",
    "        loss=recontructed_loss+kl_div\n",
    "\n",
    "        Opt.zero_grad()\n",
    "        loss.backward()\n",
    "        Opt.step()\n",
    "        \n",
    "        loop.set_postfix(loss=loss.item(),epoch=epochs+1)\n",
    "    loss_val.append(loss.item())\n",
    "    epochs_val.append(epochs+1)"
   ]
  }
 ],
 "metadata": {
  "kernelspec": {
   "display_name": "base",
   "language": "python",
   "name": "python3"
  },
  "language_info": {
   "codemirror_mode": {
    "name": "ipython",
    "version": 3
   },
   "file_extension": ".py",
   "mimetype": "text/x-python",
   "name": "python",
   "nbconvert_exporter": "python",
   "pygments_lexer": "ipython3",
   "version": "3.11.5"
  }
 },
 "nbformat": 4,
 "nbformat_minor": 2
}
