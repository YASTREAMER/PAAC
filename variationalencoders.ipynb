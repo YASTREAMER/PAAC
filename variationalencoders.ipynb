{
 "cells": [
  {
   "cell_type": "code",
   "execution_count": 3,
   "metadata": {},
   "outputs": [
    {
     "data": {
      "text/plain": [
       "'cuda'"
      ]
     },
     "execution_count": 3,
     "metadata": {},
     "output_type": "execute_result"
    }
   ],
   "source": [
    "import pandas as pd\n",
    "import os \n",
    "import numpy as np\n",
    "\n",
    "import matplotlib.pyplot as plt\n",
    "import seaborn as sn\n",
    "\n",
    "from sklearn.model_selection import train_test_split\n",
    "from sklearn.metrics import confusion_matrix\n",
    "\n",
    "import torch\n",
    "from torch import  nn\n",
    "from torchvision import transforms ,datasets\n",
    "from torch.utils.data import DataLoader\n",
    "from torch.optim import Adam\n",
    "import torch.optim.lr_scheduler as lr_scheduler\n",
    "\n",
    "from tqdm.notebook import tqdm\n",
    "\n",
    "device = \"cuda\" if torch.cuda.is_available() else \"cpu\"\n",
    "device"
   ]
  },
  {
   "cell_type": "code",
   "execution_count": 4,
   "metadata": {},
   "outputs": [],
   "source": [
    "InputDim=784\n",
    "HiddenDim=200\n",
    "OutputDim=20\n",
    "\n",
    "\n",
    "InputDimCNN=1\n",
    "HiddenDimCNN=3\n",
    "OutputDimCNN=1\n",
    "\n",
    "LR_rate=1e-3\n",
    "Num_epochs=10\n",
    "batch_size=512\n"
   ]
  },
  {
   "cell_type": "code",
   "execution_count": 5,
   "metadata": {},
   "outputs": [],
   "source": [
    "# TrainData=datasets.CIFAR10(root=\"/home/yash/CNN_Data\",train=True,transform=transforms.ToTensor(),download=True)\n",
    "# TestData=datasets.CIFAR10(root=\"/home/yash/CNN_Data\",train=False,transform=transforms.ToTensor(),download=True) \n",
    "#Use this for the CIFAR10 Dataset\n",
    "\n",
    "TrainData=datasets.MNIST(root=\"/home/yash/CNN_Data\",train=True,transform=transforms.ToTensor(),download=True)\n",
    "TestData=datasets.MNIST(root=\"/home/yash/CNN_Data\",train=False,transform=transforms.ToTensor(),download=True) \n",
    "TrainDataSet=DataLoader(TrainData,batch_size=batch_size)\n",
    "TestDataSet=DataLoader(TestData,batch_size=batch_size)"
   ]
  },
  {
   "cell_type": "code",
   "execution_count": 6,
   "metadata": {},
   "outputs": [],
   "source": [
    "class VARAutoencodersLinear(nn.Module):\n",
    "    def __init__(self,input_dim,hidden_dim,z_dim):\n",
    "        super().__init__()\n",
    "\n",
    "        #Flatten\n",
    "        self.Flat=nn.Flatten()\n",
    "\n",
    "        #Encoder\n",
    "        self.img_2hid=nn.Linear(input_dim,hidden_dim)\n",
    "        self.hid_2mu=nn.Linear(hidden_dim,z_dim)\n",
    "        self.hid_2sigma=nn.Linear(hidden_dim,z_dim)\n",
    "\n",
    "        #Decoder\n",
    "\n",
    "        self.z_2hid=nn.Linear(z_dim,hidden_dim)\n",
    "        self.hid_2img=nn.Linear(hidden_dim,input_dim)\n",
    "\n",
    "\n",
    "        self.Relu=nn.ReLU()\n",
    "        self.sigmoid=nn.Sigmoid()\n",
    "        pass\n",
    "    \n",
    "    def Encoder(self,x):\n",
    "        hd=self.Relu(self.img_2hid(x))\n",
    "        mu,sigma=self.hid_2mu(hd),self.hid_2sigma(hd)\n",
    "        return(mu,sigma)\n",
    "\n",
    "    def Decoder(self,z):\n",
    "\n",
    "        h=self.Relu(self.z_2hid(z))\n",
    "        out=self.sigmoid(self.hid_2img(h))\n",
    "        return(out)\n",
    "\n",
    "    def forward(self,Dataset):\n",
    "\n",
    "        mu,sigma=self.Encoder(Dataset)\n",
    "        epsilon=torch.rand_like(sigma)\n",
    "        z_parameterized=mu+sigma*epsilon\n",
    "\n",
    "        x_recontructed=self.Decoder(z_parameterized)\n",
    "\n",
    "        return(x_recontructed,mu,sigma)"
   ]
  },
  {
   "cell_type": "code",
   "execution_count": 7,
   "metadata": {},
   "outputs": [],
   "source": [
    "vaeLin=VARAutoencodersLinear(InputDim,HiddenDim,OutputDim).to(device)\n",
    "Optimizer=Adam(vaeLin.parameters(),lr=LR_rate)\n",
    "loss_fn=nn.BCELoss(reduction=\"sum\")"
   ]
  },
  {
   "cell_type": "code",
   "execution_count": 8,
   "metadata": {},
   "outputs": [
    {
     "data": {
      "application/vnd.jupyter.widget-view+json": {
       "model_id": "53db6cb86c7c40b59ffed918618b3fcb",
       "version_major": 2,
       "version_minor": 0
      },
      "text/plain": [
       "0it [00:00, ?it/s]"
      ]
     },
     "metadata": {},
     "output_type": "display_data"
    },
    {
     "data": {
      "application/vnd.jupyter.widget-view+json": {
       "model_id": "a44aa243daca470aa1934bfb44558f7b",
       "version_major": 2,
       "version_minor": 0
      },
      "text/plain": [
       "0it [00:00, ?it/s]"
      ]
     },
     "metadata": {},
     "output_type": "display_data"
    },
    {
     "data": {
      "application/vnd.jupyter.widget-view+json": {
       "model_id": "8d4208d4918d4f38916d9f8b6a069981",
       "version_major": 2,
       "version_minor": 0
      },
      "text/plain": [
       "0it [00:00, ?it/s]"
      ]
     },
     "metadata": {},
     "output_type": "display_data"
    },
    {
     "data": {
      "application/vnd.jupyter.widget-view+json": {
       "model_id": "fd7a6392ce2a430999c08efd2d6b1963",
       "version_major": 2,
       "version_minor": 0
      },
      "text/plain": [
       "0it [00:00, ?it/s]"
      ]
     },
     "metadata": {},
     "output_type": "display_data"
    },
    {
     "data": {
      "application/vnd.jupyter.widget-view+json": {
       "model_id": "f26116bb3acf456da8d81acae8948968",
       "version_major": 2,
       "version_minor": 0
      },
      "text/plain": [
       "0it [00:00, ?it/s]"
      ]
     },
     "metadata": {},
     "output_type": "display_data"
    },
    {
     "data": {
      "application/vnd.jupyter.widget-view+json": {
       "model_id": "e1d49afb6d794ad6b989a2a69f52b60e",
       "version_major": 2,
       "version_minor": 0
      },
      "text/plain": [
       "0it [00:00, ?it/s]"
      ]
     },
     "metadata": {},
     "output_type": "display_data"
    },
    {
     "data": {
      "application/vnd.jupyter.widget-view+json": {
       "model_id": "4cdcc37a27524093bc7579ca6c2d7de2",
       "version_major": 2,
       "version_minor": 0
      },
      "text/plain": [
       "0it [00:00, ?it/s]"
      ]
     },
     "metadata": {},
     "output_type": "display_data"
    },
    {
     "data": {
      "application/vnd.jupyter.widget-view+json": {
       "model_id": "e7f1757d841f41938bb8d99c7f73c3a2",
       "version_major": 2,
       "version_minor": 0
      },
      "text/plain": [
       "0it [00:00, ?it/s]"
      ]
     },
     "metadata": {},
     "output_type": "display_data"
    },
    {
     "data": {
      "application/vnd.jupyter.widget-view+json": {
       "model_id": "75c7c2f3413d47d5a3608420c6c72fd6",
       "version_major": 2,
       "version_minor": 0
      },
      "text/plain": [
       "0it [00:00, ?it/s]"
      ]
     },
     "metadata": {},
     "output_type": "display_data"
    },
    {
     "data": {
      "application/vnd.jupyter.widget-view+json": {
       "model_id": "75b8edf7e32c470fa72f0d1508e844aa",
       "version_major": 2,
       "version_minor": 0
      },
      "text/plain": [
       "0it [00:00, ?it/s]"
      ]
     },
     "metadata": {},
     "output_type": "display_data"
    }
   ],
   "source": [
    "for epochs in range(Num_epochs):\n",
    "    loop=tqdm(enumerate(TrainDataSet),colour=\"Blue\")\n",
    "\n",
    "    for i, (x,_) in loop:\n",
    "        x=x.to(device).view(x.shape[0],InputDim)\n",
    "        x_recontructed,mu,sigma=vaeLin(x)\n",
    "\n",
    "\n",
    "        recontructed_loss=loss_fn(x_recontructed,x)\n",
    "        kl_div=-torch.sum(1+torch.log(sigma.pow(2))-mu.pow(2)-sigma.pow(2))\n",
    "\n",
    "        loss=recontructed_loss+kl_div\n",
    "\n",
    "        Optimizer.zero_grad()\n",
    "        loss.backward()\n",
    "        Optimizer.step()\n",
    "        \n",
    "        loop.set_postfix(loss=loss.item(),epoch=epochs+1)"
   ]
  },
  {
   "cell_type": "code",
   "execution_count": null,
   "metadata": {},
   "outputs": [],
   "source": []
  }
 ],
 "metadata": {
  "kernelspec": {
   "display_name": "base",
   "language": "python",
   "name": "python3"
  },
  "language_info": {
   "codemirror_mode": {
    "name": "ipython",
    "version": 3
   },
   "file_extension": ".py",
   "mimetype": "text/x-python",
   "name": "python",
   "nbconvert_exporter": "python",
   "pygments_lexer": "ipython3",
   "version": "3.11.5"
  }
 },
 "nbformat": 4,
 "nbformat_minor": 2
}
