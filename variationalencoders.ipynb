{
 "cells": [
  {
   "cell_type": "code",
   "execution_count": 1,
   "metadata": {},
   "outputs": [
    {
     "data": {
      "text/plain": [
       "'cuda'"
      ]
     },
     "execution_count": 1,
     "metadata": {},
     "output_type": "execute_result"
    }
   ],
   "source": [
    "import pandas as pd\n",
    "import os \n",
    "import numpy as np\n",
    "\n",
    "import matplotlib.pyplot as plt\n",
    "import seaborn as sn\n",
    "\n",
    "from sklearn.model_selection import train_test_split\n",
    "from sklearn.metrics import confusion_matrix\n",
    "\n",
    "import torch\n",
    "from torch import  nn\n",
    "from torchvision import transforms ,datasets\n",
    "from torch.utils.data import DataLoader\n",
    "from torch.optim import Adam\n",
    "import torch.optim.lr_scheduler as lr_scheduler\n",
    "\n",
    "from tqdm.notebook import tqdm\n",
    "\n",
    "device = \"cuda\" if torch.cuda.is_available() else \"cpu\"\n",
    "device"
   ]
  },
  {
   "cell_type": "code",
   "execution_count": 3,
   "metadata": {},
   "outputs": [],
   "source": [
    "# TrainData=datasets.CIFAR10(root=\"/home/yash/CNN_Data\",train=True,transform=transforms.ToTensor(),download=True)\n",
    "# TestData=datasets.CIFAR10(root=\"/home/yash/CNN_Data\",train=False,transform=transforms.ToTensor(),download=True) \n",
    "#Use this for the CIFAR10 Dataset\n",
    "\n",
    "TrainData=datasets.MNIST(root=\"/home/yash/CNN_Data\",train=True,transform=transforms.ToTensor(),download=True)\n",
    "TestData=datasets.MNIST(root=\"/home/yash/CNN_Data\",train=False,transform=transforms.ToTensor(),download=True) \n",
    "TrainDataSet=DataLoader(TrainData,batch_size=batch_size)\n",
    "TestDataSet=DataLoader(TestData,batch_size=batch_size)"
   ]
  },
  {
   "cell_type": "code",
   "execution_count": null,
   "metadata": {},
   "outputs": [],
   "source": [
    "class VARAutoencodersLinear(nn.Module):\n",
    "    def __init__(self,input_dim,hidden_dim,z_dim):\n",
    "        super().__init__()\n",
    "\n",
    "        #Flatten\n",
    "        self.Flat=nn.Flatten()\n",
    "\n",
    "        #Encoder\n",
    "        self.img_2hid=nn.Linear(input_dim,hidden_dim)\n",
    "        self.hid_2mu=nn.Linear(hidden_dim,z_dim)\n",
    "        self.hid_2sigma=nn.Linear(hidden_dim,z_dim)\n",
    "\n",
    "        #Decoder\n",
    "\n",
    "        self.z_2hid=nn.Linear(z_dim,hidden_dim)\n",
    "        self.hid_2img=nn.Linear(hidden_dim,input_dim)\n",
    "\n",
    "\n",
    "        self.Relu=nn.ReLU()\n",
    "        self.sigmoid=nn.Sigmoid()\n",
    "        pass\n",
    "    \n",
    "    def Encoder(self,x):\n",
    "        hd=self.Relu(self.img_2hid(x))\n",
    "        mu,sigma=self.hid_2mu(hd),self.hid_2sigma(hd)\n",
    "        return(mu,sigma)\n",
    "\n",
    "    def Decoder(self,z):\n",
    "\n",
    "        h=self.Relu(self.z_2hid(z))\n",
    "        out=self.sigmoid(self.hid_2img(h))\n",
    "        return(out)\n",
    "\n",
    "    def forward(self,Dataset):\n",
    "\n",
    "        mu,sigma=self.Encoder(Dataset)\n",
    "        epsilon=torch.rand_like(sigma)\n",
    "        z_parameterized=mu+sigma*epsilon\n",
    "\n",
    "        x_recontructed=self.Decoder(z_parameterized)\n",
    "\n",
    "        return(x_recontructed,mu,sigma)"
   ]
  },
  {
   "cell_type": "code",
   "execution_count": 2,
   "metadata": {},
   "outputs": [],
   "source": [
    "InputDim=784\n",
    "HiddenDim=200\n",
    "OutputDim=20\n",
    "\n",
    "\n",
    "InputDimCNN=1\n",
    "HiddenDimCNN=3\n",
    "OutputDimCNN=1\n",
    "\n",
    "LR_rate=1e-3\n",
    "Num_epochs=10\n",
    "batch_size=512\n"
   ]
  },
  {
   "cell_type": "code",
   "execution_count": 5,
   "metadata": {},
   "outputs": [
    {
     "ename": "NameError",
     "evalue": "name 'VARAutoencodersLinear' is not defined",
     "output_type": "error",
     "traceback": [
      "\u001b[0;31m---------------------------------------------------------------------------\u001b[0m",
      "\u001b[0;31mNameError\u001b[0m                                 Traceback (most recent call last)",
      "Cell \u001b[0;32mIn[5], line 1\u001b[0m\n\u001b[0;32m----> 1\u001b[0m vaeLin\u001b[38;5;241m=\u001b[39mVARAutoencodersLinear(InputDim,HiddenDim,OutputDim)\u001b[38;5;241m.\u001b[39mto(device)\n\u001b[1;32m      2\u001b[0m Optimizer\u001b[38;5;241m=\u001b[39mAdam(vaeLin\u001b[38;5;241m.\u001b[39mparameters(),lr\u001b[38;5;241m=\u001b[39mLR_rate)\n\u001b[1;32m      3\u001b[0m loss_fn\u001b[38;5;241m=\u001b[39mnn\u001b[38;5;241m.\u001b[39mBCELoss(reduction\u001b[38;5;241m=\u001b[39m\u001b[38;5;124m\"\u001b[39m\u001b[38;5;124msum\u001b[39m\u001b[38;5;124m\"\u001b[39m)\n",
      "\u001b[0;31mNameError\u001b[0m: name 'VARAutoencodersLinear' is not defined"
     ]
    }
   ],
   "source": [
    "vaeLin=VARAutoencodersLinear(InputDim,HiddenDim,OutputDim).to(device)\n",
    "Optimizer=Adam(vaeLin.parameters(),lr=LR_rate)\n",
    "loss_fn=nn.BCELoss(reduction=\"sum\")"
   ]
  },
  {
   "cell_type": "code",
   "execution_count": null,
   "metadata": {},
   "outputs": [],
   "source": [
    "for epochs in range(Num_epochs):\n",
    "    loop=tqdm(enumerate(TrainDataSet),colour=\"Blue\")\n",
    "\n",
    "    for i, (x,_) in loop:\n",
    "        x=x.to(device).view(x.shape[0],InputDim)\n",
    "        x_recontructed,mu,sigma=vaeLin(x)\n",
    "\n",
    "\n",
    "        recontructed_loss=loss_fn(x_recontructed,x)\n",
    "        kl_div=-torch.sum(1+torch.log(sigma.pow(2))-mu.pow(2)-sigma.pow(2))\n",
    "\n",
    "        loss=recontructed_loss+kl_div\n",
    "\n",
    "        Optimizer.zero_grad()\n",
    "        loss.backward()\n",
    "        Optimizer.step()\n",
    "        \n",
    "        loop.set_postfix(loss=loss.item(),epoch=epochs+1)"
   ]
  },
  {
   "cell_type": "code",
   "execution_count": 4,
   "metadata": {},
   "outputs": [],
   "source": [
    "class VARAutoencodersCNN(nn.Module):\n",
    "    def __init__(self,input_dim,hidden_dim,hidden_dim2,hidden_dim3,z_dim):\n",
    "        super().__init__()\n",
    "\n",
    "        #Encoder\n",
    "        self.img_2hid=nn.Conv2d(input_dim,hidden_dim,3)        \n",
    "        self.hid_2mu=nn.Conv2d(hidden_dim,z_dim,3)\n",
    "        self.hid_2sigma=nn.Conv2d(hidden_dim,z_dim,3)\n",
    "\n",
    "        #Decoder\n",
    "\n",
    "        self.z_2hid=nn.ConvTranspose2d(z_dim,hidden_dim,3)\n",
    "        self.hid_2img=nn.ConvTranspose2d(hidden_dim,input_dim,3)\n",
    "\n",
    "\n",
    "        self.Relu=nn.ReLU()\n",
    "        self.sigmoid=nn.Sigmoid()\n",
    "        pass\n",
    "    \n",
    "    def Encoder(self,x):\n",
    "        hd=self.Relu(self.img_2hid(x))\n",
    "        mu,sigma=self.hid_2mu(hd),self.hid_2sigma(hd)\n",
    "        return(mu,sigma)\n",
    "\n",
    "    def Decoder(self,z):\n",
    "\n",
    "        h=self.Relu(self.z_2hid(z))\n",
    "        out=self.sigmoid(self.hid_2img(h))\n",
    "        return(out)\n",
    "\n",
    "    def forward(self,Dataset):\n",
    "\n",
    "        mu,sigma=self.Encoder(Dataset)\n",
    "        epsilon=torch.rand_like(sigma)\n",
    "        z_parameterized=mu+sigma*epsilon\n",
    "\n",
    "        x_recontructed=self.Decoder(z_parameterized)\n",
    "\n",
    "        return(x_recontructed,mu,sigma)"
   ]
  },
  {
   "cell_type": "code",
   "execution_count": 5,
   "metadata": {},
   "outputs": [],
   "source": [
    "vaeCnn=VARAutoencodersCNN(InputDimCNN,HiddenDimCNN,OutputDimCNN).to(device)\n",
    "Opt=Adam(vaeCnn.parameters(),lr=LR_rate)\n",
    "loss_fn=nn.BCELoss(reduction=\"sum\")"
   ]
  },
  {
   "cell_type": "code",
   "execution_count": 6,
   "metadata": {},
   "outputs": [
    {
     "data": {
      "application/vnd.jupyter.widget-view+json": {
       "model_id": "f1d37f086e184ae7b63d7925f0295cda",
       "version_major": 2,
       "version_minor": 0
      },
      "text/plain": [
       "0it [00:00, ?it/s]"
      ]
     },
     "metadata": {},
     "output_type": "display_data"
    },
    {
     "name": "stderr",
     "output_type": "stream",
     "text": [
      "/home/yash/anaconda3/lib/python3.11/site-packages/torch/nn/modules/conv.py:456: UserWarning: Applied workaround for CuDNN issue, install nvrtc.so (Triggered internally at ../aten/src/ATen/native/cudnn/Conv_v8.cpp:80.)\n",
      "  return F.conv2d(input, weight, bias, self.stride,\n"
     ]
    },
    {
     "data": {
      "application/vnd.jupyter.widget-view+json": {
       "model_id": "c405a539e594411ba7164535764ca567",
       "version_major": 2,
       "version_minor": 0
      },
      "text/plain": [
       "0it [00:00, ?it/s]"
      ]
     },
     "metadata": {},
     "output_type": "display_data"
    },
    {
     "data": {
      "application/vnd.jupyter.widget-view+json": {
       "model_id": "08dc1a02e836403a994d6fe821c19f79",
       "version_major": 2,
       "version_minor": 0
      },
      "text/plain": [
       "0it [00:00, ?it/s]"
      ]
     },
     "metadata": {},
     "output_type": "display_data"
    },
    {
     "data": {
      "application/vnd.jupyter.widget-view+json": {
       "model_id": "edaeb1355aca45edb8bcf63505a8cbf2",
       "version_major": 2,
       "version_minor": 0
      },
      "text/plain": [
       "0it [00:00, ?it/s]"
      ]
     },
     "metadata": {},
     "output_type": "display_data"
    },
    {
     "data": {
      "application/vnd.jupyter.widget-view+json": {
       "model_id": "ba25b2cfaf114b748b6ce04f6a8dd193",
       "version_major": 2,
       "version_minor": 0
      },
      "text/plain": [
       "0it [00:00, ?it/s]"
      ]
     },
     "metadata": {},
     "output_type": "display_data"
    },
    {
     "data": {
      "application/vnd.jupyter.widget-view+json": {
       "model_id": "c4123b7ad6674a87a8dbe236fc7d9f62",
       "version_major": 2,
       "version_minor": 0
      },
      "text/plain": [
       "0it [00:00, ?it/s]"
      ]
     },
     "metadata": {},
     "output_type": "display_data"
    },
    {
     "data": {
      "application/vnd.jupyter.widget-view+json": {
       "model_id": "33b2d8cb4eb84f9c86994a5583e32738",
       "version_major": 2,
       "version_minor": 0
      },
      "text/plain": [
       "0it [00:00, ?it/s]"
      ]
     },
     "metadata": {},
     "output_type": "display_data"
    },
    {
     "data": {
      "application/vnd.jupyter.widget-view+json": {
       "model_id": "3693f3effaa34310bc37e6a40a840bd9",
       "version_major": 2,
       "version_minor": 0
      },
      "text/plain": [
       "0it [00:00, ?it/s]"
      ]
     },
     "metadata": {},
     "output_type": "display_data"
    },
    {
     "data": {
      "application/vnd.jupyter.widget-view+json": {
       "model_id": "30e4870694a34d728a965e34533b5c27",
       "version_major": 2,
       "version_minor": 0
      },
      "text/plain": [
       "0it [00:00, ?it/s]"
      ]
     },
     "metadata": {},
     "output_type": "display_data"
    },
    {
     "data": {
      "application/vnd.jupyter.widget-view+json": {
       "model_id": "4c8c4def4eb14d039e899be30f8a7a13",
       "version_major": 2,
       "version_minor": 0
      },
      "text/plain": [
       "0it [00:00, ?it/s]"
      ]
     },
     "metadata": {},
     "output_type": "display_data"
    }
   ],
   "source": [
    "for epochs in range(Num_epochs):\n",
    "    loop=tqdm(enumerate(TrainDataSet),colour=\"Blue\")\n",
    "\n",
    "    for i, (x,_) in loop:\n",
    "        x=x.to(device)\n",
    "        x_recontructed,mu,sigma=vaeCnn(x)\n",
    "\n",
    "\n",
    "        recontructed_loss=loss_fn(x_recontructed,x)\n",
    "        kl_div=-torch.sum(1+torch.log(sigma.pow(2))-mu.pow(2)-sigma.pow(2))\n",
    "\n",
    "        loss=recontructed_loss+kl_div\n",
    "\n",
    "        Opt.zero_grad()\n",
    "        loss.backward()\n",
    "        Opt.step()\n",
    "        \n",
    "        loop.set_postfix(loss=loss.item(),epoch=epochs+1)"
   ]
  },
  {
   "cell_type": "code",
   "execution_count": null,
   "metadata": {},
   "outputs": [],
   "source": []
  }
 ],
 "metadata": {
  "kernelspec": {
   "display_name": "base",
   "language": "python",
   "name": "python3"
  },
  "language_info": {
   "codemirror_mode": {
    "name": "ipython",
    "version": 3
   },
   "file_extension": ".py",
   "mimetype": "text/x-python",
   "name": "python",
   "nbconvert_exporter": "python",
   "pygments_lexer": "ipython3",
   "version": "3.11.5"
  }
 },
 "nbformat": 4,
 "nbformat_minor": 2
}
